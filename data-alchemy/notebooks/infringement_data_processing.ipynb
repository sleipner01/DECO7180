{
	"cells": [
		{
			"cell_type": "markdown",
			"metadata": {},
			"source": [
				"# 🔮 Traffic Infringement Data Processing\n",
				"\n",
				"This notebook processes raw traffic infringement data and converts it into the GeoJSON format required for the heatmap visualization.\n",
				"\n",
				"## Overview\n",
				"\n",
				"1. Load raw data\n",
				"2. Clean and preprocess\n",
				"3. Geocode locations\n",
				"4. Transform to GeoJSON\n",
				"5. Export for visualization\n"
			]
		},
		{
			"cell_type": "code",
			"execution_count": 1,
			"metadata": {},
			"outputs": [],
			"source": [
				"# Import necessary libraries\n",
				"import pandas as pd\n",
				"import numpy as np\n",
				"import matplotlib.pyplot as plt\n",
				"import json\n",
				"import os\n",
				"from pathlib import Path"
			]
		},
		{
			"cell_type": "markdown",
			"metadata": {},
			"source": [
				"## 1. Load Raw Data\n",
				"\n",
				"First, let's load the traffic infringement data from the CSV file.\n"
			]
		},
		{
			"cell_type": "code",
			"execution_count": 3,
			"metadata": {},
			"outputs": [
				{
					"data": {
						"text/html": [
							"<div>\n",
							"<style scoped>\n",
							"    .dataframe tbody tr th:only-of-type {\n",
							"        vertical-align: middle;\n",
							"    }\n",
							"\n",
							"    .dataframe tbody tr th {\n",
							"        vertical-align: top;\n",
							"    }\n",
							"\n",
							"    .dataframe thead th {\n",
							"        text-align: right;\n",
							"    }\n",
							"</style>\n",
							"<table border=\"1\" class=\"dataframe\">\n",
							"  <thead>\n",
							"    <tr style=\"text-align: right;\">\n",
							"      <th></th>\n",
							"      <th>Financial Year</th>\n",
							"      <th>Police Region</th>\n",
							"      <th>Police District</th>\n",
							"      <th>Offence Type</th>\n",
							"      <th>Breach or Ticket</th>\n",
							"      <th>Offence Code</th>\n",
							"      <th>Offence Description</th>\n",
							"      <th>Total</th>\n",
							"    </tr>\n",
							"  </thead>\n",
							"  <tbody>\n",
							"    <tr>\n",
							"      <th>0</th>\n",
							"      <td>2013-14</td>\n",
							"      <td>BRISBANE</td>\n",
							"      <td>NORTH BRISBANE</td>\n",
							"      <td>1M/1.5M Passing Offence</td>\n",
							"      <td>T</td>\n",
							"      <td>3334</td>\n",
							"      <td>FAIL TO MAINTAIN 1M/1.5M WHEN PASSING A BICYCLE</td>\n",
							"      <td>1</td>\n",
							"    </tr>\n",
							"    <tr>\n",
							"      <th>1</th>\n",
							"      <td>2013-14</td>\n",
							"      <td>BRISBANE</td>\n",
							"      <td>NORTH BRISBANE</td>\n",
							"      <td>Accreditation</td>\n",
							"      <td>T</td>\n",
							"      <td>4699</td>\n",
							"      <td>ACCREDITED PERSON FAIL TO DISPLAY ACCREDITED D...</td>\n",
							"      <td>1</td>\n",
							"    </tr>\n",
							"    <tr>\n",
							"      <th>2</th>\n",
							"      <td>2013-14</td>\n",
							"      <td>BRISBANE</td>\n",
							"      <td>NORTH BRISBANE</td>\n",
							"      <td>Accreditation</td>\n",
							"      <td>T</td>\n",
							"      <td>4700</td>\n",
							"      <td>ACCREDITED PERSON FAIL TO CARRY/PRODUCE ACCRED...</td>\n",
							"      <td>2</td>\n",
							"    </tr>\n",
							"    <tr>\n",
							"      <th>3</th>\n",
							"      <td>2013-14</td>\n",
							"      <td>BRISBANE</td>\n",
							"      <td>NORTH BRISBANE</td>\n",
							"      <td>Accreditation</td>\n",
							"      <td>T</td>\n",
							"      <td>4704</td>\n",
							"      <td>DRIVE PILOT VEHICLE NOT IN ACCORDANCE WITH GUI...</td>\n",
							"      <td>1</td>\n",
							"    </tr>\n",
							"    <tr>\n",
							"      <th>4</th>\n",
							"      <td>2013-14</td>\n",
							"      <td>BRISBANE</td>\n",
							"      <td>NORTH BRISBANE</td>\n",
							"      <td>Accreditation</td>\n",
							"      <td>T</td>\n",
							"      <td>4705</td>\n",
							"      <td>DRIVE ESCORT VEHICLE NOT IN ACCORDANCE WITH GU...</td>\n",
							"      <td>4</td>\n",
							"    </tr>\n",
							"  </tbody>\n",
							"</table>\n",
							"</div>"
						],
						"text/plain": [
							"  Financial Year Police Region Police District             Offence Type  \\\n",
							"0      2013-14        BRISBANE  NORTH BRISBANE  1M/1.5M Passing Offence   \n",
							"1      2013-14        BRISBANE  NORTH BRISBANE            Accreditation   \n",
							"2      2013-14        BRISBANE  NORTH BRISBANE            Accreditation   \n",
							"3      2013-14        BRISBANE  NORTH BRISBANE            Accreditation   \n",
							"4      2013-14        BRISBANE  NORTH BRISBANE            Accreditation   \n",
							"\n",
							"  Breach or Ticket Offence Code  \\\n",
							"0                T         3334   \n",
							"1                T         4699   \n",
							"2                T         4700   \n",
							"3                T         4704   \n",
							"4                T         4705   \n",
							"\n",
							"                                 Offence Description Total  \n",
							"0    FAIL TO MAINTAIN 1M/1.5M WHEN PASSING A BICYCLE     1  \n",
							"1  ACCREDITED PERSON FAIL TO DISPLAY ACCREDITED D...     1  \n",
							"2  ACCREDITED PERSON FAIL TO CARRY/PRODUCE ACCRED...     2  \n",
							"3  DRIVE PILOT VEHICLE NOT IN ACCORDANCE WITH GUI...     1  \n",
							"4  DRIVE ESCORT VEHICLE NOT IN ACCORDANCE WITH GU...     4  "
						]
					},
					"execution_count": 3,
					"metadata": {},
					"output_type": "execute_result"
				}
			],
			"source": [
				"# Set paths\n",
				"ROOT_DIR = Path('../')\n",
				"DATA_DIR = ROOT_DIR / 'data'\n",
				"OUTPUT_DIR = Path('../output')\n",
				"\n",
				"# Create output directory if it doesn't exist\n",
				"os.makedirs(OUTPUT_DIR, exist_ok=True)\n",
				"\n",
				"# Load the traffic infringements data\n",
				"infringements_path = DATA_DIR / 'trafficinfringementsissued.csv'\n",
				"df = pd.read_csv(infringements_path, header=0)\n",
				"\n",
				"# Display the first few rows\n",
				"df.head()"
			]
		},
		{
			"cell_type": "code",
			"execution_count": 4,
			"metadata": {},
			"outputs": [
				{
					"name": "stdout",
					"output_type": "stream",
					"text": [
						"Dataset shape: (75310, 8)\n",
						"<class 'pandas.core.frame.DataFrame'>\n",
						"RangeIndex: 75310 entries, 0 to 75309\n",
						"Data columns (total 8 columns):\n",
						" #   Column               Non-Null Count  Dtype \n",
						"---  ------               --------------  ----- \n",
						" 0   Financial Year       75309 non-null  object\n",
						" 1   Police Region        75307 non-null  object\n",
						" 2   Police District      75307 non-null  object\n",
						" 3   Offence Type         75307 non-null  object\n",
						" 4   Breach or Ticket     75307 non-null  object\n",
						" 5   Offence Code         75307 non-null  object\n",
						" 6   Offence Description  75307 non-null  object\n",
						" 7   Total                75307 non-null  object\n",
						"dtypes: object(8)\n",
						"memory usage: 4.6+ MB\n"
					]
				}
			],
			"source": [
				"# Basic data exploration\n",
				"print(f\"Dataset shape: {df.shape}\")\n",
				"df.info()"
			]
		},
		{
			"cell_type": "markdown",
			"metadata": {},
			"source": [
				"## 2. Clean and Preprocess Data\n",
				"\n",
				"We need to clean the data and prepare it for geocoding.\n"
			]
		},
		{
			"cell_type": "code",
			"execution_count": 5,
			"metadata": {},
			"outputs": [
				{
					"data": {
						"text/plain": [
							"Index(['financial_year', 'police_region', 'police_district', 'offence_type',\n",
							"       'breach_or_ticket', 'offence_code', 'offence_description', 'total'],\n",
							"      dtype='object')"
						]
					},
					"execution_count": 5,
					"metadata": {},
					"output_type": "execute_result"
				}
			],
			"source": [
				"# Clean column names (remove spaces, lowercase)\n",
				"df.columns = [col.strip().lower().replace(' ', '_') for col in df.columns]\n",
				"\n",
				"# Show columns after cleaning\n",
				"df.columns"
			]
		},
		{
			"cell_type": "code",
			"execution_count": 6,
			"metadata": {},
			"outputs": [
				{
					"name": "stdout",
					"output_type": "stream",
					"text": [
						"Missing values by column:\n"
					]
				},
				{
					"data": {
						"text/plain": [
							"financial_year         1\n",
							"police_region          3\n",
							"police_district        3\n",
							"offence_type           3\n",
							"breach_or_ticket       3\n",
							"offence_code           3\n",
							"offence_description    3\n",
							"total                  3\n",
							"dtype: int64"
						]
					},
					"execution_count": 6,
					"metadata": {},
					"output_type": "execute_result"
				}
			],
			"source": [
				"# Check for missing values\n",
				"print(\"Missing values by column:\")\n",
				"df.isna().sum()"
			]
		},
		{
			"cell_type": "markdown",
			"metadata": {},
			"source": [
				"## 3. Geocoding\n",
				"\n",
				"We need to convert location names to coordinates. Let's use a dictionary mapping locations to coordinates.\n"
			]
		},
		{
			"cell_type": "code",
			"execution_count": 11,
			"metadata": {},
			"outputs": [],
			"source": [
				"# ...existing code...\n",
				"# Example mapping of Queensland regions to approximate coordinates\n",
				"qld_regions = {\n",
				"    'NORTH BRISBANE': {'lat': -27.4075, 'lon': 153.0543},\n",
				"    'SOUTH BRISBANE': {'lat': -27.4809, 'lon': 153.0167},\n",
				"    'CAPRICORNIA': {'lat': -23.3791, 'lon': 150.5100},  # Centered on Rockhampton\n",
				"    'MACKAY': {'lat': -21.1412, 'lon': 149.1868},\n",
				"    'SUNSHINE COAST': {'lat': -26.6500, 'lon': 153.0667},\n",
				"    'WIDE BAY BURNETT': {'lat': -25.2882, 'lon': 152.3423},  # Centered near Bundaberg\n",
				"    'FAR NORTH': {'lat': -16.9186, 'lon': 145.7781},  # Centered on Cairns\n",
				"    'MOUNT ISA': {'lat': -20.7256, 'lon': 139.4927},\n",
				"    'TOWNSVILLE': {'lat': -19.2590, 'lon': 146.8169},\n",
				"    'GOLD COAST': {'lat': -28.0167, 'lon': 153.4000},\n",
				"    'LOGAN': {'lat': -27.6392, 'lon': 153.1086},\n",
				"    'DARLING DOWNS': {'lat': -27.5598, 'lon': 151.9507},  # Centered on Toowoomba\n",
				"    'IPSWICH': {'lat': -27.6161, 'lon': 152.7610},\n",
				"    'MORETON': {'lat': -27.2360, 'lon': 153.1187},  # Centered near Redcliffe\n",
				"    'SOUTH WEST': {'lat': -27.9500, 'lon': 151.9500},  # Approximate center of the region\n",
				"}"
			]
		},
		{
			"cell_type": "code",
			"execution_count": 12,
			"metadata": {},
			"outputs": [
				{
					"name": "stdout",
					"output_type": "stream",
					"text": [
						"Locations in the dataset: 17\n"
					]
				},
				{
					"data": {
						"text/plain": [
							"array(['NORTH BRISBANE', 'SOUTH BRISBANE', 'CAPRICORNIA', 'MACKAY',\n",
							"       'SUNSHINE COAST', 'WIDE BAY BURNETT', 'FAR NORTH', 'MOUNT ISA',\n",
							"       'TOWNSVILLE', 'GOLD COAST', 'LOGAN', 'DARLING DOWNS', 'IPSWICH',\n",
							"       'MORETON', 'SOUTH WEST', 'UNKNOWN', nan], dtype=object)"
						]
					},
					"execution_count": 12,
					"metadata": {},
					"output_type": "execute_result"
				}
			],
			"source": [
				"# Check which locations we have in the data\n",
				"locations = df['police_district'].unique()\n",
				"print(f\"Locations in the dataset: {len(locations)}\")\n",
				"locations[:20]  # Show the first 20"
			]
		},
		{
			"cell_type": "code",
			"execution_count": 13,
			"metadata": {},
			"outputs": [
				{
					"name": "stdout",
					"output_type": "stream",
					"text": [
						"Locations with coordinates: 70102 out of 75310\n"
					]
				},
				{
					"data": {
						"text/html": [
							"<div>\n",
							"<style scoped>\n",
							"    .dataframe tbody tr th:only-of-type {\n",
							"        vertical-align: middle;\n",
							"    }\n",
							"\n",
							"    .dataframe tbody tr th {\n",
							"        vertical-align: top;\n",
							"    }\n",
							"\n",
							"    .dataframe thead th {\n",
							"        text-align: right;\n",
							"    }\n",
							"</style>\n",
							"<table border=\"1\" class=\"dataframe\">\n",
							"  <thead>\n",
							"    <tr style=\"text-align: right;\">\n",
							"      <th></th>\n",
							"      <th>financial_year</th>\n",
							"      <th>police_region</th>\n",
							"      <th>police_district</th>\n",
							"      <th>offence_type</th>\n",
							"      <th>breach_or_ticket</th>\n",
							"      <th>offence_code</th>\n",
							"      <th>offence_description</th>\n",
							"      <th>total</th>\n",
							"      <th>latitude</th>\n",
							"      <th>longitude</th>\n",
							"    </tr>\n",
							"  </thead>\n",
							"  <tbody>\n",
							"    <tr>\n",
							"      <th>0</th>\n",
							"      <td>2013-14</td>\n",
							"      <td>BRISBANE</td>\n",
							"      <td>NORTH BRISBANE</td>\n",
							"      <td>1M/1.5M Passing Offence</td>\n",
							"      <td>T</td>\n",
							"      <td>3334</td>\n",
							"      <td>FAIL TO MAINTAIN 1M/1.5M WHEN PASSING A BICYCLE</td>\n",
							"      <td>1</td>\n",
							"      <td>-27.4075</td>\n",
							"      <td>153.0543</td>\n",
							"    </tr>\n",
							"    <tr>\n",
							"      <th>1</th>\n",
							"      <td>2013-14</td>\n",
							"      <td>BRISBANE</td>\n",
							"      <td>NORTH BRISBANE</td>\n",
							"      <td>Accreditation</td>\n",
							"      <td>T</td>\n",
							"      <td>4699</td>\n",
							"      <td>ACCREDITED PERSON FAIL TO DISPLAY ACCREDITED D...</td>\n",
							"      <td>1</td>\n",
							"      <td>-27.4075</td>\n",
							"      <td>153.0543</td>\n",
							"    </tr>\n",
							"    <tr>\n",
							"      <th>2</th>\n",
							"      <td>2013-14</td>\n",
							"      <td>BRISBANE</td>\n",
							"      <td>NORTH BRISBANE</td>\n",
							"      <td>Accreditation</td>\n",
							"      <td>T</td>\n",
							"      <td>4700</td>\n",
							"      <td>ACCREDITED PERSON FAIL TO CARRY/PRODUCE ACCRED...</td>\n",
							"      <td>2</td>\n",
							"      <td>-27.4075</td>\n",
							"      <td>153.0543</td>\n",
							"    </tr>\n",
							"    <tr>\n",
							"      <th>3</th>\n",
							"      <td>2013-14</td>\n",
							"      <td>BRISBANE</td>\n",
							"      <td>NORTH BRISBANE</td>\n",
							"      <td>Accreditation</td>\n",
							"      <td>T</td>\n",
							"      <td>4704</td>\n",
							"      <td>DRIVE PILOT VEHICLE NOT IN ACCORDANCE WITH GUI...</td>\n",
							"      <td>1</td>\n",
							"      <td>-27.4075</td>\n",
							"      <td>153.0543</td>\n",
							"    </tr>\n",
							"    <tr>\n",
							"      <th>4</th>\n",
							"      <td>2013-14</td>\n",
							"      <td>BRISBANE</td>\n",
							"      <td>NORTH BRISBANE</td>\n",
							"      <td>Accreditation</td>\n",
							"      <td>T</td>\n",
							"      <td>4705</td>\n",
							"      <td>DRIVE ESCORT VEHICLE NOT IN ACCORDANCE WITH GU...</td>\n",
							"      <td>4</td>\n",
							"      <td>-27.4075</td>\n",
							"      <td>153.0543</td>\n",
							"    </tr>\n",
							"  </tbody>\n",
							"</table>\n",
							"</div>"
						],
						"text/plain": [
							"  financial_year police_region police_district             offence_type  \\\n",
							"0      2013-14        BRISBANE  NORTH BRISBANE  1M/1.5M Passing Offence   \n",
							"1      2013-14        BRISBANE  NORTH BRISBANE            Accreditation   \n",
							"2      2013-14        BRISBANE  NORTH BRISBANE            Accreditation   \n",
							"3      2013-14        BRISBANE  NORTH BRISBANE            Accreditation   \n",
							"4      2013-14        BRISBANE  NORTH BRISBANE            Accreditation   \n",
							"\n",
							"  breach_or_ticket offence_code  \\\n",
							"0                T         3334   \n",
							"1                T         4699   \n",
							"2                T         4700   \n",
							"3                T         4704   \n",
							"4                T         4705   \n",
							"\n",
							"                                 offence_description total  latitude  \\\n",
							"0    FAIL TO MAINTAIN 1M/1.5M WHEN PASSING A BICYCLE     1  -27.4075   \n",
							"1  ACCREDITED PERSON FAIL TO DISPLAY ACCREDITED D...     1  -27.4075   \n",
							"2  ACCREDITED PERSON FAIL TO CARRY/PRODUCE ACCRED...     2  -27.4075   \n",
							"3  DRIVE PILOT VEHICLE NOT IN ACCORDANCE WITH GUI...     1  -27.4075   \n",
							"4  DRIVE ESCORT VEHICLE NOT IN ACCORDANCE WITH GU...     4  -27.4075   \n",
							"\n",
							"   longitude  \n",
							"0   153.0543  \n",
							"1   153.0543  \n",
							"2   153.0543  \n",
							"3   153.0543  \n",
							"4   153.0543  "
						]
					},
					"execution_count": 13,
					"metadata": {},
					"output_type": "execute_result"
				}
			],
			"source": [
				"# Function to add coordinates to the dataframe\n",
				"def add_coordinates(row):\n",
				"    location = row['police_district']\n",
				"    if location in qld_regions:\n",
				"        return pd.Series([qld_regions[location]['lat'], qld_regions[location]['lon']])\n",
				"    else:\n",
				"        # Default to Brisbane for unknown locations - you may want to handle this differently\n",
				"        return pd.Series([None, None])\n",
				"\n",
				"# Apply the function to add latitude and longitude columns\n",
				"df[['latitude', 'longitude']] = df.apply(add_coordinates, axis=1)\n",
				"\n",
				"# Check how many locations were successfully geocoded\n",
				"print(f\"Locations with coordinates: {df['latitude'].notna().sum()} out of {len(df)}\")\n",
				"\n",
				"# Display sample with coordinates\n",
				"df[df['latitude'].notna()].head()"
			]
		},
		{
			"cell_type": "markdown",
			"metadata": {},
			"source": [
				"## 4. Aggregate Data\n",
				"\n",
				"Now, let's aggregate the data by location to get the total number of infringements per location.\n"
			]
		},
		{
			"cell_type": "code",
			"execution_count": 19,
			"metadata": {},
			"outputs": [
				{
					"data": {
						"text/html": [
							"<div>\n",
							"<style scoped>\n",
							"    .dataframe tbody tr th:only-of-type {\n",
							"        vertical-align: middle;\n",
							"    }\n",
							"\n",
							"    .dataframe tbody tr th {\n",
							"        vertical-align: top;\n",
							"    }\n",
							"\n",
							"    .dataframe thead th {\n",
							"        text-align: right;\n",
							"    }\n",
							"</style>\n",
							"<table border=\"1\" class=\"dataframe\">\n",
							"  <thead>\n",
							"    <tr style=\"text-align: right;\">\n",
							"      <th></th>\n",
							"      <th>police_district</th>\n",
							"      <th>latitude</th>\n",
							"      <th>longitude</th>\n",
							"      <th>count</th>\n",
							"    </tr>\n",
							"  </thead>\n",
							"  <tbody>\n",
							"    <tr>\n",
							"      <th>9</th>\n",
							"      <td>NORTH BRISBANE</td>\n",
							"      <td>-27.4075</td>\n",
							"      <td>153.0543</td>\n",
							"      <td>7541</td>\n",
							"    </tr>\n",
							"    <tr>\n",
							"      <th>10</th>\n",
							"      <td>SOUTH BRISBANE</td>\n",
							"      <td>-27.4809</td>\n",
							"      <td>153.0167</td>\n",
							"      <td>5553</td>\n",
							"    </tr>\n",
							"    <tr>\n",
							"      <th>3</th>\n",
							"      <td>GOLD COAST</td>\n",
							"      <td>-28.0167</td>\n",
							"      <td>153.4000</td>\n",
							"      <td>5520</td>\n",
							"    </tr>\n",
							"    <tr>\n",
							"      <th>0</th>\n",
							"      <td>CAPRICORNIA</td>\n",
							"      <td>-23.3791</td>\n",
							"      <td>150.5100</td>\n",
							"      <td>4964</td>\n",
							"    </tr>\n",
							"    <tr>\n",
							"      <th>12</th>\n",
							"      <td>SUNSHINE COAST</td>\n",
							"      <td>-26.6500</td>\n",
							"      <td>153.0667</td>\n",
							"      <td>4892</td>\n",
							"    </tr>\n",
							"    <tr>\n",
							"      <th>2</th>\n",
							"      <td>FAR NORTH</td>\n",
							"      <td>-16.9186</td>\n",
							"      <td>145.7781</td>\n",
							"      <td>4768</td>\n",
							"    </tr>\n",
							"    <tr>\n",
							"      <th>5</th>\n",
							"      <td>LOGAN</td>\n",
							"      <td>-27.6392</td>\n",
							"      <td>153.1086</td>\n",
							"      <td>4742</td>\n",
							"    </tr>\n",
							"    <tr>\n",
							"      <th>1</th>\n",
							"      <td>DARLING DOWNS</td>\n",
							"      <td>-27.5598</td>\n",
							"      <td>151.9507</td>\n",
							"      <td>4694</td>\n",
							"    </tr>\n",
							"    <tr>\n",
							"      <th>13</th>\n",
							"      <td>TOWNSVILLE</td>\n",
							"      <td>-19.2590</td>\n",
							"      <td>146.8169</td>\n",
							"      <td>4649</td>\n",
							"    </tr>\n",
							"    <tr>\n",
							"      <th>14</th>\n",
							"      <td>WIDE BAY BURNETT</td>\n",
							"      <td>-25.2882</td>\n",
							"      <td>152.3423</td>\n",
							"      <td>4473</td>\n",
							"    </tr>\n",
							"  </tbody>\n",
							"</table>\n",
							"</div>"
						],
						"text/plain": [
							"     police_district  latitude  longitude  count\n",
							"9     NORTH BRISBANE  -27.4075   153.0543   7541\n",
							"10    SOUTH BRISBANE  -27.4809   153.0167   5553\n",
							"3         GOLD COAST  -28.0167   153.4000   5520\n",
							"0        CAPRICORNIA  -23.3791   150.5100   4964\n",
							"12    SUNSHINE COAST  -26.6500   153.0667   4892\n",
							"2          FAR NORTH  -16.9186   145.7781   4768\n",
							"5              LOGAN  -27.6392   153.1086   4742\n",
							"1      DARLING DOWNS  -27.5598   151.9507   4694\n",
							"13        TOWNSVILLE  -19.2590   146.8169   4649\n",
							"14  WIDE BAY BURNETT  -25.2882   152.3423   4473"
						]
					},
					"execution_count": 19,
					"metadata": {},
					"output_type": "execute_result"
				}
			],
			"source": [
				"# Count number of records per location (not sum of 'total')\n",
				"location_counts = df.groupby(['police_district', 'latitude', 'longitude']).size().reset_index(name='count')\n",
				"location_counts = location_counts.sort_values('count', ascending=False)\n",
				"location_counts.head(10)"
			]
		},
		{
			"cell_type": "markdown",
			"metadata": {},
			"source": [
				"## 5. Transform to GeoJSON\n",
				"\n",
				"Now let's convert our aggregated data to GeoJSON format for the heatmap.\n"
			]
		},
		{
			"cell_type": "code",
			"execution_count": 20,
			"metadata": {},
			"outputs": [
				{
					"data": {
						"text/plain": [
							"{'type': 'Feature',\n",
							" 'properties': {'intensity': 100.0,\n",
							"  'location': 'NORTH BRISBANE',\n",
							"  'count': 7541},\n",
							" 'geometry': {'type': 'Point', 'coordinates': [153.0543, -27.4075]}}"
						]
					},
					"execution_count": 20,
					"metadata": {},
					"output_type": "execute_result"
				}
			],
			"source": [
				"# Function to normalize values to a 0-100 scale for intensity\n",
				"def normalize_values(series):\n",
				"    min_val = series.min()\n",
				"    max_val = series.max()\n",
				"    return 100 * (series - min_val) / (max_val - min_val)\n",
				"\n",
				"# Normalize the counts to get intensity values between 0-100\n",
				"location_counts['intensity'] = normalize_values(location_counts['count'])\n",
				"\n",
				"# Remove rows with missing coordinates\n",
				"geo_data = location_counts.dropna(subset=['latitude', 'longitude'])\n",
				"\n",
				"# Create GeoJSON feature collection\n",
				"features = []\n",
				"for _, row in geo_data.iterrows():\n",
				"    feature = {\n",
				"        \"type\": \"Feature\",\n",
				"        \"properties\": {\n",
				"            \"intensity\": float(row['intensity']),\n",
				"            \"location\": row['police_district'],\n",
				"            \"count\": int(row['count'])\n",
				"        },\n",
				"        \"geometry\": {\n",
				"            \"type\": \"Point\",\n",
				"            \"coordinates\": [float(row['longitude']), float(row['latitude'])]\n",
				"        }\n",
				"    }\n",
				"    features.append(feature)\n",
				"\n",
				"# Create the GeoJSON structure\n",
				"geojson_data = {\n",
				"    \"type\": \"FeatureCollection\",\n",
				"    \"features\": features\n",
				"}\n",
				"\n",
				"# Preview the first feature\n",
				"geojson_data[\"features\"][0]"
			]
		},
		{
			"cell_type": "code",
			"execution_count": 21,
			"metadata": {},
			"outputs": [
				{
					"name": "stdout",
					"output_type": "stream",
					"text": [
						"GeoJSON data saved to ../output/infringements.json\n"
					]
				}
			],
			"source": [
				"# Save the GeoJSON data to a file\n",
				"output_file = OUTPUT_DIR / 'infringements.json'\n",
				"with open(output_file, 'w') as f:\n",
				"    json.dump(geojson_data, f, indent=2)\n",
				"\n",
				"print(f\"GeoJSON data saved to {output_file}\")"
			]
		},
		{
			"cell_type": "code",
			"execution_count": 22,
			"metadata": {},
			"outputs": [
				{
					"name": "stdout",
					"output_type": "stream",
					"text": [
						"CSV data saved to ../output/infringements.csv\n"
					]
				}
			],
			"source": [
				"# Also save a CSV version for compatibility\n",
				"csv_output = OUTPUT_DIR / 'infringements.csv'\n",
				"geo_data[['latitude', 'longitude', 'intensity']].to_csv(csv_output, index=False)\n",
				"print(f\"CSV data saved to {csv_output}\")"
			]
		},
		{
			"cell_type": "markdown",
			"metadata": {},
			"source": [
				"## 6. Copy to Web App\n",
				"\n",
				"Finally, let's copy the processed files to the client/data directory so they can be used by the web application.\n"
			]
		},
		{
			"cell_type": "code",
			"execution_count": null,
			"metadata": {},
			"outputs": [
				{
					"name": "stdout",
					"output_type": "stream",
					"text": [
						"Files copied to web app directory: ../../client/data\n"
					]
				}
			],
			"source": [
				"import shutil\n",
				"\n",
				"# Define paths\n",
				"client_data_dir = ROOT_DIR / '..' / 'client' / 'data'\n",
				"\n",
				"# Ensure the client data directory exists\n",
				"os.makedirs(client_data_dir, exist_ok=True)\n",
				"\n",
				"# Copy the GeoJSON file\n",
				"shutil.copy(output_file, client_data_dir / 'infringements_qld.json')\n",
				"\n",
				"# Copy the CSV file\n",
				"shutil.copy(csv_output, client_data_dir / 'infringements_qld.csv')\n",
				"\n",
				"print(f\"Files copied to web app directory: {client_data_dir}\")"
			]
		}
	],
	"metadata": {
		"kernelspec": {
			"display_name": "venv",
			"language": "python",
			"name": "python3"
		},
		"language_info": {
			"codemirror_mode": {
				"name": "ipython",
				"version": 3
			},
			"file_extension": ".py",
			"mimetype": "text/x-python",
			"name": "python",
			"nbconvert_exporter": "python",
			"pygments_lexer": "ipython3",
			"version": "3.13.3"
		}
	},
	"nbformat": 4,
	"nbformat_minor": 4
}
